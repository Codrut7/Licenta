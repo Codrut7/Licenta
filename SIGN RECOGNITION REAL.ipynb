{
 "cells": [
  {
   "cell_type": "code",
   "execution_count": 1,
   "metadata": {},
   "outputs": [],
   "source": [
    "import torch\n",
    "import torch.nn as nn\n",
    "import torch.nn.functional as F\n",
    "import os\n",
    "from torchvision import datasets\n",
    "from torchvision import transforms\n",
    "from torchsummary import summary\n",
    "\n",
    "CUDA_LAUNCH_BLOCKING=\"1\"\n",
    "device = torch.device(\"cuda:0\" if torch.cuda.is_available() else \"cpu\")\n",
    "torch.set_default_tensor_type('torch.cuda.FloatTensor')"
   ]
  },
  {
   "cell_type": "code",
   "execution_count": 2,
   "metadata": {},
   "outputs": [],
   "source": [
    "class Net(nn.Module):\n",
    "    def __init__(self):\n",
    "        super(Net, self).__init__()\n",
    "        # Normalization layers\n",
    "        self.dropout = nn.Dropout(p=0.5)\n",
    "        \n",
    "     \n",
    "        self.conv1 = nn.Conv2d(3, 32, 3)\n",
    "        self.pool = nn.MaxPool2d(2, 2)\n",
    "        \n",
    "        self.conv2 = nn.Conv2d(32, 32, 3)\n",
    "        #self.pool2 = nn.MaxPool2d(2, 2)\n",
    "        \n",
    "        self.conv3 = nn.Conv2d(32, 64, 3)\n",
    "        #self.pool3 = nn.MaxPool2d(2, 2)\n",
    "        \n",
    "        self.conv4 = nn.Conv2d(64, 64, 3)\n",
    "        #self.pool4 = nn.MaxPool2d(2, 2)      \n",
    "        \n",
    "        self.fc1 = nn.Linear(64 * 12 * 12, 1)\n",
    "        self.fc3 = nn.Sigmoid()\n",
    "\n",
    "    def forward(self, x):\n",
    "        x = self.pool(self.dropout(F.relu(self.conv1(x))))\n",
    "        x = self.pool(self.dropout(F.relu(self.conv2(x))))\n",
    "        x = self.pool(self.dropout(F.relu(self.conv3(x))))\n",
    "        x = self.pool(self.dropout(F.relu(self.conv4(x))))\n",
    "        x = x.view(-1, 64 * 12 * 12)\n",
    "        x = self.fc1(x)\n",
    "        x = self.fc3(x)\n",
    "        \n",
    "        return x\n"
   ]
  },
  {
   "cell_type": "code",
   "execution_count": 3,
   "metadata": {},
   "outputs": [
    {
     "name": "stdout",
     "output_type": "stream",
     "text": [
      "----------------------------------------------------------------\n",
      "        Layer (type)               Output Shape         Param #\n",
      "================================================================\n",
      "            Conv2d-1         [-1, 32, 222, 222]             896\n",
      "           Dropout-2         [-1, 32, 222, 222]               0\n",
      "         MaxPool2d-3         [-1, 32, 111, 111]               0\n",
      "            Conv2d-4         [-1, 32, 109, 109]           9,248\n",
      "           Dropout-5         [-1, 32, 109, 109]               0\n",
      "         MaxPool2d-6           [-1, 32, 54, 54]               0\n",
      "            Conv2d-7           [-1, 64, 52, 52]          18,496\n",
      "           Dropout-8           [-1, 64, 52, 52]               0\n",
      "         MaxPool2d-9           [-1, 64, 26, 26]               0\n",
      "           Conv2d-10           [-1, 64, 24, 24]          36,928\n",
      "          Dropout-11           [-1, 64, 24, 24]               0\n",
      "        MaxPool2d-12           [-1, 64, 12, 12]               0\n",
      "           Linear-13                    [-1, 1]           9,217\n",
      "          Sigmoid-14                    [-1, 1]               0\n",
      "================================================================\n",
      "Total params: 74,785\n",
      "Trainable params: 74,785\n",
      "Non-trainable params: 0\n",
      "----------------------------------------------------------------\n",
      "Input size (MB): 0.57\n",
      "Forward/backward pass size (MB): 37.19\n",
      "Params size (MB): 0.29\n",
      "Estimated Total Size (MB): 38.05\n",
      "----------------------------------------------------------------\n"
     ]
    }
   ],
   "source": [
    "\n",
    "custom_model = Net().to(device)\n",
    "summary(custom_model, (3, 224, 224))"
   ]
  },
  {
   "cell_type": "code",
   "execution_count": 4,
   "metadata": {},
   "outputs": [],
   "source": [
    "traindir = os.path.join('C:\\\\Users\\\\Cordu\\\\Desktop\\\\traffic sign data\\\\', 'train_set')\n",
    "testdir = os.path.join('C:\\\\Users\\\\Cordu\\\\Desktop\\\\traffic sign data\\\\', 'validation_set')\n",
    "normalize = transforms.Normalize(mean=[0.485, 0.456, 0.406], std=[0.229, 0.224, 0.225])"
   ]
  },
  {
   "cell_type": "code",
   "execution_count": 5,
   "metadata": {},
   "outputs": [],
   "source": [
    "train_loader = torch.utils.data.DataLoader(\n",
    "    datasets.ImageFolder(traindir,\n",
    "                         transforms.Compose([\n",
    "                             transforms.Resize((224, 224)),\n",
    "                             transforms.RandomHorizontalFlip(),\n",
    "                             transforms.ToTensor(),\n",
    "                             normalize,\n",
    "                         ])),\n",
    "    batch_size=64,\n",
    "    shuffle=True,\n",
    "    num_workers=0)\n",
    "\n",
    "validation_loader = torch.utils.data.DataLoader(\n",
    "    datasets.ImageFolder(testdir,\n",
    "                         transforms.Compose([\n",
    "                             transforms.Resize((224, 224)),\n",
    "                             transforms.RandomHorizontalFlip(),\n",
    "                             transforms.ToTensor(),\n",
    "                             normalize,\n",
    "                         ])),\n",
    "    batch_size=64,\n",
    "    shuffle=True,\n",
    "    num_workers=0)\n",
    "\n",
    "test_loader = torch.utils.data.DataLoader(\n",
    "    datasets.ImageFolder(os.path.abspath('test'),\n",
    "                         transforms.Compose([\n",
    "                             transforms.Resize((224, 224)),\n",
    "                             transforms.RandomHorizontalFlip(),\n",
    "                             transforms.ToTensor(),\n",
    "                             normalize,\n",
    "                         ])),\n",
    "    batch_size=64,\n",
    "    shuffle=True,\n",
    "    num_workers=0\n",
    "\n",
    "    )"
   ]
  },
  {
   "cell_type": "code",
   "execution_count": 6,
   "metadata": {},
   "outputs": [
    {
     "data": {
      "text/plain": [
       "Net(\n",
       "  (dropout): Dropout(p=0.5, inplace=False)\n",
       "  (conv1): Conv2d(3, 32, kernel_size=(3, 3), stride=(1, 1))\n",
       "  (pool): MaxPool2d(kernel_size=2, stride=2, padding=0, dilation=1, ceil_mode=False)\n",
       "  (conv2): Conv2d(32, 32, kernel_size=(3, 3), stride=(1, 1))\n",
       "  (conv3): Conv2d(32, 64, kernel_size=(3, 3), stride=(1, 1))\n",
       "  (conv4): Conv2d(64, 64, kernel_size=(3, 3), stride=(1, 1))\n",
       "  (fc1): Linear(in_features=9216, out_features=1, bias=True)\n",
       "  (fc3): Sigmoid()\n",
       ")"
      ]
     },
     "execution_count": 6,
     "metadata": {},
     "output_type": "execute_result"
    }
   ],
   "source": [
    "import torch.optim as optim\n",
    "\n",
    "criterion = torch.nn.BCELoss()\n",
    "optimizer = torch.optim.SGD(custom_model.parameters(), lr=0.001, momentum=0.9)\n",
    "custom_model.train()"
   ]
  },
  {
   "cell_type": "code",
   "execution_count": 7,
   "metadata": {},
   "outputs": [
    {
     "name": "stdout",
     "output_type": "stream",
     "text": [
      "[Epoch : 1, Total iterations :   166] loss: 0.005\n",
      "Accuracy 86% \n",
      "\n",
      "Test set: Average loss: 0.5015, Accuracy: 3164/3911 (80%)\n",
      "\n",
      "[Epoch : 2, Total iterations :   166] loss: 0.002\n",
      "Accuracy 96% \n",
      "\n",
      "Test set: Average loss: 0.4396, Accuracy: 3322/3911 (84%)\n",
      "\n",
      "[Epoch : 3, Total iterations :   166] loss: 0.001\n",
      "Accuracy 98% \n",
      "\n",
      "Test set: Average loss: 0.2845, Accuracy: 3541/3911 (90%)\n",
      "\n",
      "[Epoch : 4, Total iterations :   166] loss: 0.001\n",
      "Accuracy 98% \n",
      "\n",
      "Test set: Average loss: 0.5994, Accuracy: 3236/3911 (82%)\n",
      "\n",
      "[Epoch : 5, Total iterations :   166] loss: 0.000\n",
      "Accuracy 98% \n",
      "\n",
      "Test set: Average loss: 0.2940, Accuracy: 3540/3911 (90%)\n",
      "\n",
      "Finished Training\n"
     ]
    }
   ],
   "source": [
    "for epoch in range(5):  # loop over the dataset multiple times\n",
    "\n",
    "    running_loss = 0.0\n",
    "    running_corrects = 0.0\n",
    "    for i, data in enumerate(train_loader,0):\n",
    "        # get the inputs; data is a list of [inputs, labels]\n",
    "        inputs, labels = data\n",
    "        labels = labels.unsqueeze(0).permute(1,0).to(dtype=torch.float)\n",
    "        inputs = inputs.to(device)\n",
    "        # zero the parameter gradients\n",
    "        optimizer.zero_grad()\n",
    "        # forward + backward + optimize\n",
    "        outputs = custom_model(inputs).to(device)\n",
    "        loss = criterion(outputs, labels)\n",
    "        loss.backward()\n",
    "        optimizer.step()\n",
    "        # print statistics\n",
    "        running_loss += loss.item()\n",
    "        classes = torch.round(outputs)\n",
    "        running_corrects += (classes == labels).sum()\n",
    "\n",
    "    print('[Epoch : %d, Total iterations : %5d] loss: %.3f' % (epoch + 1, i, running_loss / len(train_loader.dataset)))\n",
    "    print('Accuracy {}% '.format(running_corrects * 100 / len(train_loader.dataset)))\n",
    "    test_loss = 0\n",
    "    correct = 0.0\n",
    "    for data, target in validation_loader:\n",
    "        data, target = data.to(device), target.to(device, dtype= torch.float)\n",
    "        output = custom_model(data).to(device)\n",
    "        target = target.unsqueeze(0).permute(1,0)\n",
    "        test_loss += torch.nn.functional.binary_cross_entropy(output, target, reduction='sum').item()  # sum up batch loss\n",
    "        \n",
    "        pred = torch.round(output)\n",
    "        correct += (pred == target).sum()\n",
    "\n",
    "    test_loss /= len(validation_loader.dataset)\n",
    "\n",
    "    print('\\nTest set: Average loss: {:.4f}, Accuracy: {}/{} ({:.0f}%)\\n'.format(\n",
    "            test_loss, correct, len(validation_loader.dataset),\n",
    "            100. * correct / len(validation_loader.dataset)))\n",
    "\n",
    "print('Finished Training')\n"
   ]
  },
  {
   "cell_type": "code",
   "execution_count": 8,
   "metadata": {},
   "outputs": [],
   "source": [
    "from PIL import Image\n",
    "from matplotlib import cm\n",
    "\n",
    "def image_loader(image_name):\n",
    "    \"\"\"load image, returns cuda tensor\"\"\"\n",
    "    image = Image.open(image_name)\n",
    "    image = loader(image).float()\n",
    "    image = torch.tensor(image, requires_grad=True)\n",
    "    image = image.unsqueeze(0)  #this is for VGG, may not be needed for ResNet\n",
    "    return image.cuda()  #assumes that you're using GPU"
   ]
  },
  {
   "cell_type": "code",
   "execution_count": 9,
   "metadata": {},
   "outputs": [
    {
     "name": "stdout",
     "output_type": "stream",
     "text": [
      "tensor([[1.],\n",
      "        [0.],\n",
      "        [0.],\n",
      "        [0.],\n",
      "        [1.],\n",
      "        [1.],\n",
      "        [0.]])\n",
      "tensor([[1.],\n",
      "        [0.],\n",
      "        [0.],\n",
      "        [0.],\n",
      "        [1.],\n",
      "        [1.],\n",
      "        [0.]], grad_fn=<RoundBackward>)\n"
     ]
    }
   ],
   "source": [
    "\n",
    "for data, target in test_loader:\n",
    "        data, target = data.to(device), target.to(device, dtype= torch.float)\n",
    "        output = custom_model(data).to(device)\n",
    "        target = target.unsqueeze(0).permute(1,0)\n",
    "        output = torch.round(output)\n",
    "        print(target)\n",
    "        print(output)"
   ]
  },
  {
   "cell_type": "code",
   "execution_count": null,
   "metadata": {},
   "outputs": [],
   "source": []
  }
 ],
 "metadata": {
  "kernelspec": {
   "display_name": "Python 3",
   "language": "python",
   "name": "python3"
  },
  "language_info": {
   "codemirror_mode": {
    "name": "ipython",
    "version": 3
   },
   "file_extension": ".py",
   "mimetype": "text/x-python",
   "name": "python",
   "nbconvert_exporter": "python",
   "pygments_lexer": "ipython3",
   "version": "3.7.3"
  }
 },
 "nbformat": 4,
 "nbformat_minor": 2
}
